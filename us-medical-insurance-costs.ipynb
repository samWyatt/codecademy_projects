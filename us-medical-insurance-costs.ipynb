{
 "cells": [
  {
   "cell_type": "markdown",
   "metadata": {},
   "source": [
    "# U.S. Medical Insurance Costs"
   ]
  },
  {
   "cell_type": "markdown",
   "metadata": {},
   "source": [
    "### Import Data\n"
   ]
  },
  {
   "cell_type": "code",
   "execution_count": 2,
   "metadata": {},
   "outputs": [
    {
     "name": "stdout",
     "output_type": "stream",
     "text": [
      "{'age': '19', 'sex': 'female', 'bmi': '27.9', 'children': '0', 'smoker': 'yes', 'region': 'southwest', 'charges': '16884.924'}\n"
     ]
    }
   ],
   "source": [
    "import csv\n",
    "\n",
    "insurance_data_dict = {}\n",
    "\n",
    "with open('insurance.csv') as insurance_data_file:\n",
    "    #Import data as a csv.DictReader object \n",
    "    insurance_data_dict_obj = csv.DictReader(insurance_data_file) \n",
    "    \n",
    "    # Convert insurance_data_dict_obj to a python dictionary with an id number for each row\n",
    "    row_num = 1\n",
    "    for row in insurance_data_dict_obj:\n",
    "        insurance_data_dict[row_num] = {field:data for (field, data) in zip(row, row.values())}\n",
    "        row_num += 1\n",
    "\n",
    "print(insurance_data_dict[1])"
   ]
  },
  {
   "cell_type": "code",
   "execution_count": 3,
   "metadata": {},
   "outputs": [
    {
     "name": "stdout",
     "output_type": "stream",
     "text": [
      "{'age': 19, 'sex': 'female', 'bmi': 27.9, 'children': 0, 'smoker': 'yes', 'region': 'southwest', 'charges': 16884.924}\n"
     ]
    }
   ],
   "source": [
    "def convert_data_types(insurance_data_dict):\n",
    "    # Converts all fields in insurance_data_dict to their correct numerical type\n",
    "    # Fields changed: age, bmi, children, charges\n",
    "    \n",
    "    for id_num in insurance_data_dict:\n",
    "        insurance_data_dict[id_num] = {\n",
    "            'age': int(insurance_data_dict[id_num]['age']), \n",
    "            'sex': insurance_data_dict[id_num]['sex'], \n",
    "            'bmi': float(insurance_data_dict[id_num]['bmi']), \n",
    "            'children': int(insurance_data_dict[id_num]['children']), \n",
    "            'smoker': insurance_data_dict[id_num]['smoker'], \n",
    "            'region': insurance_data_dict[id_num]['region'], \n",
    "            'charges': float(insurance_data_dict[id_num]['charges'])}\n",
    "\n",
    "convert_data_types(insurance_data_dict)\n",
    "print(insurance_data_dict[1])"
   ]
  },
  {
   "cell_type": "markdown",
   "metadata": {},
   "source": [
    "### Suggested Analysis\n",
    "\n",
    "* **Average age of patients**"
   ]
  },
  {
   "cell_type": "code",
   "execution_count": 4,
   "metadata": {},
   "outputs": [
    {
     "data": {
      "text/plain": [
       "39.21"
      ]
     },
     "execution_count": 4,
     "metadata": {},
     "output_type": "execute_result"
    }
   ],
   "source": [
    "num_of_patients = len(insurance_data_dict)\n",
    "sum_of_ages = sum([insurance_data_dict[id_num]['age'] for id_num in insurance_data_dict])\n",
    "\n",
    "avg_age_of_patient = round(sum_of_ages / num_of_patients, 2)\n",
    "avg_age_of_patient"
   ]
  },
  {
   "cell_type": "markdown",
   "metadata": {},
   "source": [
    "* **Location Breakdown**"
   ]
  },
  {
   "cell_type": "code",
   "execution_count": 5,
   "metadata": {},
   "outputs": [
    {
     "data": {
      "text/plain": [
       "{'southwest': {'Count': 325, 'Percent': 24.29},\n",
       " 'southeast': {'Count': 364, 'Percent': 27.2},\n",
       " 'northwest': {'Count': 325, 'Percent': 24.29},\n",
       " 'northeast': {'Count': 324, 'Percent': 24.22}}"
      ]
     },
     "execution_count": 5,
     "metadata": {},
     "output_type": "execute_result"
    }
   ],
   "source": [
    "regions, region_counts = [], []\n",
    "\n",
    "for id_num in insurance_data_dict:\n",
    "    region = insurance_data_dict[id_num]['region']\n",
    "    if region not in regions:\n",
    "        regions.append(region)\n",
    "        region_counts.append(1)\n",
    "    else:\n",
    "        region_counts[regions.index(region)] += 1\n",
    "\n",
    "region_percents = [round(100 * count / num_of_patients, 2) for count in region_counts]\n",
    "\n",
    "region_dict_name = ['Count', 'Percent']\n",
    "\n",
    "region_dict = {region:{field:val for (field, val) in zip(region_dict_name, region_num_zip)} \n",
    "               for (region, region_num_zip) in zip(regions, zip(region_counts, region_percents))}\n",
    "region_dict"
   ]
  },
  {
   "cell_type": "markdown",
   "metadata": {},
   "source": [
    "* **Smoker Cost Breakdown**"
   ]
  },
  {
   "cell_type": "code",
   "execution_count": 6,
   "metadata": {
    "scrolled": true
   },
   "outputs": [
    {
     "name": "stdout",
     "output_type": "stream",
     "text": [
      "{'Smokers': {'Count': 274, 'Count_Percentage': 20.48, 'Total Costs': 8781763.52, 'Cost_Percentage': 49.46, 'Average_cost': 32050.23}, 'Non-smokers': {'Count': 1064, 'Count_Percentage': 79.52, 'Total Costs': 8974061.47, 'Cost_Percentage': 50.54, 'Average_cost': 8434.27}}\n",
      "Smokers average costs are 3.8 times greater than Non-smokers average costs!\n"
     ]
    }
   ],
   "source": [
    "smoker_count, smoker_cost_total = 0, 0\n",
    "\n",
    "for id_num in insurance_data_dict:\n",
    "    smoker = insurance_data_dict[id_num]['smoker']\n",
    "    if smoker == 'yes':\n",
    "        smoker_count += 1\n",
    "        smoker_cost_total += insurance_data_dict[id_num]['charges']\n",
    "\n",
    "total_cost = sum([insurance_data_dict[id_num + 1]['charges'] for id_num in range(num_of_patients)])\n",
    "\n",
    "smoker_dict = {'Smokers':\n",
    "               {'Count':smoker_count, \n",
    "                'Count_Percentage':round(100 * smoker_count/num_of_patients,2), \n",
    "                'Total Costs':round(smoker_cost_total,2), \n",
    "                'Cost_Percentage':round(100 * smoker_cost_total / total_cost,2),\n",
    "                'Average_cost':round(smoker_cost_total / smoker_count, 2)},\n",
    "               'Non-smokers':\n",
    "               {'Count':num_of_patients - smoker_count, \n",
    "                'Count_Percentage':round(100 * (num_of_patients - smoker_count)/num_of_patients,2), \n",
    "                'Total Costs':round(total_cost - smoker_cost_total,2), \n",
    "                'Cost_Percentage':round(100 * (total_cost - smoker_cost_total) / total_cost,2),\n",
    "                'Average_cost':round((total_cost - smoker_cost_total) / (num_of_patients - smoker_count), 2)}}\n",
    "\n",
    "print(smoker_dict)\n",
    "print('Smokers average costs are {} times greater than Non-smokers average costs!'.format(\n",
    "    round(smoker_dict['Smokers']['Average_cost'] / smoker_dict['Non-smokers']['Average_cost'], 2)))"
   ]
  },
  {
   "cell_type": "markdown",
   "metadata": {},
   "source": [
    "* **Average age for parents**"
   ]
  },
  {
   "cell_type": "code",
   "execution_count": 84,
   "metadata": {},
   "outputs": [
    {
     "name": "stdout",
     "output_type": "stream",
     "text": [
      "The average age of a parent patients is 39.78 years old.\n"
     ]
    }
   ],
   "source": [
    "parent_ages = [insurance_data_dict[id_num]['age'] for id_num in insurance_data_dict if insurance_data_dict[id_num]['children'] > 0]\n",
    "avg_parent_age = round(sum(parent_ages) / len(parent_ages), 2)\n",
    "print(\"The average age of a parent patients is {} years old.\".format(avg_parent_age))"
   ]
  },
  {
   "cell_type": "markdown",
   "metadata": {},
   "source": [
    "### Extended Analysis\n",
    "#### Linear Regression for Cost estimate\n",
    "Use an extended verion of the method in the Reggie_Linear_Regression project to create an insurance cost estimate function."
   ]
  },
  {
   "cell_type": "code",
   "execution_count": 89,
   "metadata": {},
   "outputs": [
    {
     "name": "stdout",
     "output_type": "stream",
     "text": [
      "Example of cost estimate for first patient: $48.9\n"
     ]
    }
   ],
   "source": [
    "def insurance_data_to_list(insurance_data_dict):\n",
    "    # Convert the insurance_data_dict to a list of lists with numeric values for all fields.\n",
    "    # Note: sex:'female'=0,'male'=1,  smoker:'no'=0,'yes'=1,  'region':'southwest'=0,'southeast'=1,'northwest'=2,'northeast'=3\n",
    "    return [[\n",
    "        patient_dict['age'],\n",
    "        ['female','male'].index(patient_dict['sex']),\n",
    "        patient_dict['bmi'],\n",
    "        patient_dict['children'],\n",
    "        ['no','yes'].index(patient_dict['smoker']),\n",
    "        ['southwest','southeast','northwest','northeast'].index(patient_dict['region']),\n",
    "        patient_dict['charges']] for patient_dict in insurance_data_dict.values()]\n",
    "\n",
    "# Convert the insurance_data_dict to a data list\n",
    "insurance_data_list = insurance_data_to_list(insurance_data_dict)\n",
    "\n",
    "def get_cost(factors, patient_data):\n",
    "    # returns cost = age_factor * age + sex_factor * sex + ... + region_factor * region + intercept\n",
    "    # Note: sex:'female'=0,'male'=1,  smoker:'no'=0,'yes'=1,  'region':'southwest'=0,'southeast'=1,'northwest'=2,'northeast'=3\n",
    "    return sum([factor * p_data for (factor, p_data) in zip(factors[:-1], patient_data[:-1])]) + factors[-1]\n",
    "\n",
    "# Produce an example of the estimated insurance cost for the first patient in insurance_data_list.\n",
    "example_cost_estimate = get_cost([1,1,1,1,1,1,1],insurance_data_list[0])\n",
    "print(\"Example of cost estimate for first patient: $\" + str(example_cost_estimate))"
   ]
  },
  {
   "cell_type": "code",
   "execution_count": 94,
   "metadata": {},
   "outputs": [
    {
     "name": "stdout",
     "output_type": "stream",
     "text": [
      "Actual Cost of first patient: $16884.924\n",
      "Difference between actual cost and example estimate: $16836.023999999998\n",
      "True\n"
     ]
    }
   ],
   "source": [
    "def calculate_error(factors, patient_data):\n",
    "    # Calculate the absolute different between the estimated cost \n",
    "    # produced from get_cost and the true cost from the data.\n",
    "    cost = patient_data[-1]   \n",
    "    return abs(get_cost(factors, patient_data) - cost)\n",
    "\n",
    "# Produce an example of the error of the estimated insurance cost for the first patient in insurance_data_list\n",
    "example_cost_error = calculate_error([1,1,1,1,1,1,1],insurance_data_list[0])\n",
    "\n",
    "# Get the actual insurance cost of the first patient\n",
    "first_patient_real_cost = insurance_data_list[0][-1]\n",
    "\n",
    "print(\"Actual Cost of first patient: $\" + str(first_patient_real_cost))\n",
    "print(\"Difference between actual cost and example estimate: $\" + str(example_cost_error))\n",
    "print(first_patient_real_cost == example_cost_error + example_cost_estimate)"
   ]
  },
  {
   "cell_type": "code",
   "execution_count": 95,
   "metadata": {},
   "outputs": [
    {
     "name": "stdout",
     "output_type": "stream",
     "text": [
      "Total error of example estimates: $17656599.365758996\n"
     ]
    }
   ],
   "source": [
    "def calculate_all_error(factors, insurance_data_list):\n",
    "    # Given a single set of factors, return the total error between \n",
    "    # all of the estimated costs and all of the acutal costs \n",
    "    return sum([calculate_error(factors, patient_data) for patient_data in insurance_data_list])\n",
    "\n",
    "example_total_cost_error = calculate_all_error([1,1,1,1,1,1,1], insurance_data_list)\n",
    "print(\"Total error of example estimates: $\" + str(example_total_cost_error))"
   ]
  },
  {
   "cell_type": "markdown",
   "metadata": {},
   "source": [
    "### Note:\n",
    "When preforming the regression I found it very difficult to give a good guess of the optimal factors. Due to the exponential nature of the total number of combinations I couldn't, for example, give each factor 20 values. This is because there would be 20^7=1,280,000,000 factor combinations where each factor combination would be used to estimate costs for 1338 patients.<br>\n",
    "<br>\n",
    "My approach was as follows:\n",
    "1. Start with the random set of factors called **current_best**=[1,1,1,1,1,1,1] and a **smallest_error** = infinity\n",
    "2. Choose a large **factor_offset** of 100\n",
    "3. Create the **possible_factors** list which contains lists of three new possible factors: [1 - offset, 1, 1 + offset]\n",
    "    * [[-99, 1, 101], [-99, 1, 101], [-99, 1, 101], [-99, 1, 101], [-99, 1, 101], [-99, 1, 101], [-99, 1, 101]]\n",
    "<br><br>\n",
    "4. Loop through all the different combinations of the possible_factors list. This is only 3^7=2187 combinations which is much more manageable. [-99,-99,-99,-99,-99,-99,-99], [-99,-99,-99,-99,-99,-99,1], [-99,-99,-99,-99,-99,-99,101], ..., [1,1,1,1,1,1,1], [1,1,1,1,1,1,101], ... [101,101,101,101,101,101,-99], [101,101,101,101,101,101,1], and [101,101,101,101,101,101,101]\n",
    "<br><br>\n",
    "5. Durring the loop find the combination of factors that produces the lowest total error. Set it to **current_best** and set **smallest_error** equal to the total error for that combination.\n",
    "6. Add that combination and total error into the list **best_factors_sets**\n",
    "<br><br>\n",
    "7. Shift each list in **possible_factors** up or down by the **factor_offset** or not at all by comparing it to the old **current_best**. \n",
    "    * For example, suppose the new best combination is [101,-99,1,101,101,101,-99]. \n",
    "        * Since the first factor in our new list(101) is greater than the first factor in the old **current_best**([1,1,1,1,1,1,1]) we shift the first list in **possible_factors** up by the offset: [-99 + offset, 1 + offset, 101 + offset]=[1,101,201].\n",
    "        <br><br>\n",
    "        * Since the second factor in our new list(-99) is less than the second factor in the old **current_best**([1,1,1,1,1,1,1]) we shift the second list in **possible_factors** down by the offset: [-99 - offset, 1 - offset, 101 - offset]=[-199,-99,1].\n",
    "        <br><br>\n",
    "        * Since the third factor in our new list(1) is the same as the third factor in the old **current_best**([1,1,1,1,1,1,1]) we don't shift the third list in **possible_factors** so it stays as: [-99, 1, 101].\n",
    "    * Thus **possible_factors** becomes [[1,101,201], [-199,-99,1], [-99, 1, 101], [1,101,201], [1,101,201], [1,101,201], [-199,-99,1]]\n",
    "<br><br>\n",
    "8. Repeat steps 4-7 for a given **number_of_rounds**\n",
    "\n",
    "Eventually you will see the **current_best** factors in **best_factors_sets** will stop changing. Lower the **factor_offset** and continue the regression. After getting down to a **factor_offset** of 1, my best set of factors was [264, -453, 34, 390, 31257, 218, -4901] with a total error of about $4,561,918.03.\n",
    "***"
   ]
  },
  {
   "cell_type": "code",
   "execution_count": 100,
   "metadata": {},
   "outputs": [],
   "source": [
    "best_factors_sets = [[264, -453, 34, 390, 31257, 218, -4901, 4561918.027399002]]"
   ]
  },
  {
   "cell_type": "code",
   "execution_count": 102,
   "metadata": {},
   "outputs": [
    {
     "name": "stdout",
     "output_type": "stream",
     "text": [
      "0.0%\n",
      "10.0%\n",
      "20.0%\n",
      "30.0%\n",
      "40.0%\n",
      "50.0%\n",
      "60.0%\n",
      "70.0%\n",
      "80.0%\n",
      "90.0%\n"
     ]
    },
    {
     "data": {
      "text/plain": [
       "[[264, -453, 34, 390, 31257, 218, -4901, 4561918.027399002],\n",
       " [264, -453, 34, 390, 31257, 218, -4901, 4561918.027399002],\n",
       " [264, -453, 34, 390, 31257, 218, -4901, 4561918.027399002],\n",
       " [264, -453, 34, 390, 31257, 218, -4901, 4561918.027399002],\n",
       " [264, -453, 34, 390, 31257, 218, -4901, 4561918.027399002],\n",
       " [264, -453, 34, 390, 31257, 218, -4901, 4561918.027399002],\n",
       " [264, -453, 34, 390, 31257, 218, -4901, 4561918.027399002],\n",
       " [264, -453, 34, 390, 31257, 218, -4901, 4561918.027399002],\n",
       " [264, -453, 34, 390, 31257, 218, -4901, 4561918.027399002],\n",
       " [264, -453, 34, 390, 31257, 218, -4901, 4561918.027399002]]"
      ]
     },
     "execution_count": 102,
     "metadata": {},
     "output_type": "execute_result"
    }
   ],
   "source": [
    "# Set initial variables\n",
    "number_of_rounds = 10\n",
    "smallest_error = float('inf')\n",
    "best_factors = [1, 1, 1, 1, 1, 1, 1] \n",
    "factor_offset = 1\n",
    "\n",
    "# Set the current best set of factors to the last set in best_factors_sets\n",
    "# cbf + 0 is used to avoid aliasing \n",
    "current_best = [cbf + 0 for cbf in best_factors_sets[-1]]\n",
    "\n",
    "# Set the possible_factors list as described in Step 3. above\n",
    "possible_factors = [[cb - factor_offset, cb, cb + factor_offset] for cb in current_best]\n",
    "\n",
    "# Repeats Step4-Step7 number_of_rounds times.\n",
    "for i in range(number_of_rounds):\n",
    "    # Prints the percentage of progress made\n",
    "    print(str(round(100 * i / number_of_rounds,2)) + '%')\n",
    "    \n",
    "    # Step 4-Step5\n",
    "    for m1 in possible_factors[0]:\n",
    "        for m2 in possible_factors[1]:\n",
    "            for m3 in possible_factors[2]:\n",
    "                for m4 in possible_factors[3]:\n",
    "                    for m5 in possible_factors[4]:\n",
    "                        for m6 in possible_factors[5]:\n",
    "                            for m7 in possible_factors[6]:\n",
    "                                total_error = calculate_all_error([m1,m2,m3,m4,m5,m6,m7], insurance_data_list)\n",
    "                                if total_error < smallest_error:\n",
    "                                    smallest_error = total_error\n",
    "                                    best_factors = [m1,m2,m3,m4,m5,m6,m7]\n",
    "    \n",
    "    # Step 6\n",
    "    best_factors_sets.append(best_factors + [smallest_error])\n",
    "    \n",
    "    # Step 7\n",
    "    for factor_index in range(len(best_factors)):\n",
    "        if best_factors[factor_index] == possible_factors[factor_index][0]:\n",
    "            possible_factors[factor_index][0] -= factor_offset\n",
    "            possible_factors[factor_index][1] -= factor_offset\n",
    "            possible_factors[factor_index][2] -= factor_offset\n",
    "        elif best_factors[factor_index] == possible_factors[factor_index][-1]:\n",
    "            possible_factors[factor_index][0] += factor_offset\n",
    "            possible_factors[factor_index][1] += factor_offset\n",
    "            possible_factors[factor_index][2] += factor_offset\n",
    "    \n",
    "# Prints the last 10 best factor sets\n",
    "best_factors_sets[-10:]"
   ]
  },
  {
   "cell_type": "code",
   "execution_count": 109,
   "metadata": {},
   "outputs": [
    {
     "name": "stdout",
     "output_type": "stream",
     "text": [
      "The lowest total insurance cost error is: $4561918.027399002\n",
      "The average error of the cost estimate is: $3409.505252166668\n"
     ]
    }
   ],
   "source": [
    "# Best set of factors [264, -453, 34, 390, 31257, 218, -4901]\n",
    "lowest_total_error = calculate_all_error([264, -453, 34, 390, 31257, 218, -4901], insurance_data_list)\n",
    "avg_cost_error = lowest_total_error / len(insurance_data_list)\n",
    "\n",
    "print('The lowest total insurance cost error is: $' + str(lowest_total_error))\n",
    "print('The average error of the cost estimate is: $' + str(avg_cost_error))"
   ]
  },
  {
   "cell_type": "markdown",
   "metadata": {},
   "source": [
    "### Note 2: \n",
    "\n",
    "I tried to use `itertools` to remove the seven nested for loops in the regression, but I had to modify step 7. <br><br>\n",
    "Since the nested loops are directly linked to the **possible_factors** list, when I update the **possible_factors** list the factor combinations created by the nested loops are also automatically updated.<br><br>\n",
    "It turns out that when **possible_factors_iter** is updated the **possible_factor_tuples** list doesn't automatically update. This means I needed to recreate the **possible_factor_tuples** each time Steps4-7 are repeated.    "
   ]
  },
  {
   "cell_type": "code",
   "execution_count": 54,
   "metadata": {},
   "outputs": [],
   "source": [
    "import itertools"
   ]
  },
  {
   "cell_type": "code",
   "execution_count": 131,
   "metadata": {},
   "outputs": [],
   "source": [
    "best_factors_sets_iter = [(261, -459, 41, 401, 31201, 241, -5029, 4562520.660198994)]"
   ]
  },
  {
   "cell_type": "code",
   "execution_count": 134,
   "metadata": {},
   "outputs": [
    {
     "name": "stdout",
     "output_type": "stream",
     "text": [
      "0.0%\n",
      "10.0%\n",
      "20.0%\n",
      "30.0%\n",
      "40.0%\n",
      "50.0%\n",
      "60.0%\n",
      "70.0%\n",
      "80.0%\n",
      "90.0%\n"
     ]
    },
    {
     "data": {
      "text/plain": [
       "[(261, -409, 41, 441, 31191, 241, -5059, 4565880.171798993),\n",
       " (261, -419, 41, 431, 31201, 231, -5069, 4563700.579998995),\n",
       " (261, -429, 41, 421, 31201, 231, -5059, 4563087.478798995),\n",
       " (261, -439, 41, 411, 31191, 241, -5049, 4562683.076098993),\n",
       " (261, -449, 41, 401, 31201, 241, -5039, 4562567.403998993),\n",
       " (261, -459, 41, 401, 31201, 241, -5029, 4562520.660198994),\n",
       " (261, -459, 41, 401, 31201, 241, -5029, 4562520.660198994),\n",
       " (261, -459, 41, 401, 31201, 241, -5029, 4562520.660198994),\n",
       " (261, -459, 41, 401, 31201, 241, -5029, 4562520.660198994),\n",
       " (261, -459, 41, 401, 31201, 241, -5029, 4562520.660198994)]"
      ]
     },
     "execution_count": 134,
     "metadata": {},
     "output_type": "execute_result"
    }
   ],
   "source": [
    "# Set initial variables\n",
    "number_of_rounds_iter = 10\n",
    "smallest_error_iter = float('inf')\n",
    "best_factors_iter = [1, 1, 1, 1, 1, 1, 1] \n",
    "factor_offset_iter = 10\n",
    "\n",
    "# Set the current best set of factors to the last set in best_factors_sets\n",
    "# cbf + 0 is used to avoid aliasing \n",
    "current_best_iter = [cbf + 0 for cbf in best_factors_sets_iter[-1]]\n",
    "\n",
    "# Set the possible_factors list as described in Step 3. above\n",
    "possible_factors_iter = [[cb - factor_offset_iter, cb, cb + factor_offset_iter] for cb in current_best_iter]\n",
    "\n",
    "# Repeats Step4-Step7 number_of_rounds times.\n",
    "for i in range(number_of_rounds_iter):\n",
    "    # Prints the percentage of progress made\n",
    "    print(str(round(100 * i / number_of_rounds,2)) + '%')\n",
    "    \n",
    "    # Step 4-Step5\n",
    "    possible_factor_tuples = list(itertools.product(possible_factors_iter[0], possible_factors_iter[1], \n",
    "                                                    possible_factors_iter[2], possible_factors_iter[3], \n",
    "                                                    possible_factors_iter[4], possible_factors_iter[5], \n",
    "                                                    possible_factors_iter[6]))\n",
    "    for factor_tuple in possible_factor_tuples:\n",
    "        total_error = calculate_all_error(factor_tuple, insurance_data_list)\n",
    "        if total_error < smallest_error_iter:\n",
    "            smallest_error_iter = total_error\n",
    "            best_factors_iter = factor_tuple\n",
    "    \n",
    "    # Step 6\n",
    "    best_factors_sets_iter.append(best_factors_iter + (smallest_error_iter,))\n",
    "    \n",
    "    # Step 7\n",
    "    for factor_index in range(len(best_factors_iter)):\n",
    "        if best_factors_iter[factor_index] == possible_factors_iter[factor_index][0]:\n",
    "            possible_factors_iter[factor_index][0] -= factor_offset_iter\n",
    "            possible_factors_iter[factor_index][1] -= factor_offset_iter\n",
    "            possible_factors_iter[factor_index][2] -= factor_offset_iter\n",
    "        elif best_factors_iter[factor_index] == possible_factors_iter[factor_index][-1]:\n",
    "            possible_factors_iter[factor_index][0] += factor_offset_iter\n",
    "            possible_factors_iter[factor_index][1] += factor_offset_iter\n",
    "            possible_factors_iter[factor_index][2] += factor_offset_iter\n",
    "    \n",
    "# Prints the last 10 best factor sets\n",
    "best_factors_sets_iter[-10:]"
   ]
  },
  {
   "cell_type": "code",
   "execution_count": null,
   "metadata": {},
   "outputs": [],
   "source": []
  }
 ],
 "metadata": {
  "kernelspec": {
   "display_name": "Python 3",
   "language": "python",
   "name": "python3"
  },
  "language_info": {
   "codemirror_mode": {
    "name": "ipython",
    "version": 3
   },
   "file_extension": ".py",
   "mimetype": "text/x-python",
   "name": "python",
   "nbconvert_exporter": "python",
   "pygments_lexer": "ipython3",
   "version": "3.6.5"
  }
 },
 "nbformat": 4,
 "nbformat_minor": 4
}
